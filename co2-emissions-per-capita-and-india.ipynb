{
 "cells": [
  {
   "cell_type": "markdown",
   "execution_count": null,
   "metadata": {
    "_cell_guid": "6a950f9a-3749-4c04-b0e9-da683cd693d3",
    "_uuid": "03ab5e1d05f6c7848521f2a7b5998f649961dc10"
   },
   "outputs": [],
   "source": [
    "##World-Bank-Indicator : CO2 Emissions per capita and The India\n"
   ]
  },
  {
   "cell_type": "markdown",
   "execution_count": null,
   "metadata": {
    "_cell_guid": "36d41722-9748-47b6-b9de-e4633592da8d",
    "_uuid": "70bcafcc0786e47b10c03a0ace6ef17fa6afbeaf"
   },
   "outputs": [],
   "source": [
    "Hello everyone a newbie here, one month in data-science!!\n",
    "This is my very first Notebook and Please feel free to give some feedback that can help me, Thank you!"
   ]
  },
  {
   "cell_type": "code",
   "execution_count": 1,
   "metadata": {
    "_cell_guid": "dd690348-dd25-43da-bdcd-97264087fc33",
    "_execution_state": "idle",
    "_uuid": "8f612cbca68af0d9a2960c3083f0e58b0f56e951",
    "collapsed": true
   },
   "outputs": [],
   "source": [
    "import numpy as np\n",
    "import pandas as pd\n",
    "import random\n",
    "import matplotlib.pyplot as plt"
   ]
  },
  {
   "cell_type": "code",
   "execution_count": 2,
   "metadata": {
    "_cell_guid": "5229bff1-ea18-4f29-a590-a6c49605cf03",
    "_execution_state": "idle",
    "_uuid": "28916610c4fb41faa6c54fd475fd62a34dfbb67c"
   },
   "outputs": [
    {
     "data": {
      "text/plain": [
       "'/kaggle/working'"
      ]
     },
     "execution_count": 2,
     "metadata": {},
     "output_type": "execute_result"
    }
   ],
   "source": [
    "pwd"
   ]
  },
  {
   "cell_type": "code",
   "execution_count": 3,
   "metadata": {
    "_cell_guid": "4e4cd937-aa40-4139-b00e-3068a5c47dd9",
    "_execution_state": "idle",
    "_uuid": "d0e0a072518009e5f7f223866ebcd754e8676eca"
   },
   "outputs": [
    {
     "name": "stdout",
     "output_type": "stream",
     "text": [
      "/kaggle/input\n"
     ]
    }
   ],
   "source": [
    "cd ../input\n"
   ]
  },
  {
   "cell_type": "code",
   "execution_count": 4,
   "metadata": {
    "_cell_guid": "6584c22f-1f28-446b-9d5c-455f4b6f44c7",
    "_execution_state": "idle",
    "_uuid": "34abfd576f2112faa36c7bc559140df0d662844e",
    "collapsed": true
   },
   "outputs": [],
   "source": [
    "data = pd.read_csv(\"Indicators.csv\")"
   ]
  },
  {
   "cell_type": "code",
   "execution_count": 5,
   "metadata": {
    "_cell_guid": "e1c37815-7eb3-45b4-8f63-59490445b607",
    "_execution_state": "idle",
    "_uuid": "ace13a75112da0bfcd1b06005500bc08cb0787b1"
   },
   "outputs": [
    {
     "data": {
      "text/plain": [
       "(5656458, 6)"
      ]
     },
     "execution_count": 5,
     "metadata": {},
     "output_type": "execute_result"
    }
   ],
   "source": [
    "data.shape"
   ]
  },
  {
   "cell_type": "code",
   "execution_count": 6,
   "metadata": {
    "_cell_guid": "a5f32138-dcc3-43ee-a7ca-e433a7f2464b",
    "_execution_state": "idle",
    "_uuid": "894cf523e8a7d221ff83e11196104238e3410cf6"
   },
   "outputs": [
    {
     "data": {
      "text/html": [
       "<div>\n",
       "<style>\n",
       "    .dataframe thead tr:only-child th {\n",
       "        text-align: right;\n",
       "    }\n",
       "\n",
       "    .dataframe thead th {\n",
       "        text-align: left;\n",
       "    }\n",
       "\n",
       "    .dataframe tbody tr th {\n",
       "        vertical-align: top;\n",
       "    }\n",
       "</style>\n",
       "<table border=\"1\" class=\"dataframe\">\n",
       "  <thead>\n",
       "    <tr style=\"text-align: right;\">\n",
       "      <th></th>\n",
       "      <th>CountryName</th>\n",
       "      <th>CountryCode</th>\n",
       "      <th>IndicatorName</th>\n",
       "      <th>IndicatorCode</th>\n",
       "      <th>Year</th>\n",
       "      <th>Value</th>\n",
       "    </tr>\n",
       "  </thead>\n",
       "  <tbody>\n",
       "    <tr>\n",
       "      <th>0</th>\n",
       "      <td>Arab World</td>\n",
       "      <td>ARB</td>\n",
       "      <td>Adolescent fertility rate (births per 1,000 wo...</td>\n",
       "      <td>SP.ADO.TFRT</td>\n",
       "      <td>1960</td>\n",
       "      <td>1.335609e+02</td>\n",
       "    </tr>\n",
       "    <tr>\n",
       "      <th>1</th>\n",
       "      <td>Arab World</td>\n",
       "      <td>ARB</td>\n",
       "      <td>Age dependency ratio (% of working-age populat...</td>\n",
       "      <td>SP.POP.DPND</td>\n",
       "      <td>1960</td>\n",
       "      <td>8.779760e+01</td>\n",
       "    </tr>\n",
       "    <tr>\n",
       "      <th>2</th>\n",
       "      <td>Arab World</td>\n",
       "      <td>ARB</td>\n",
       "      <td>Age dependency ratio, old (% of working-age po...</td>\n",
       "      <td>SP.POP.DPND.OL</td>\n",
       "      <td>1960</td>\n",
       "      <td>6.634579e+00</td>\n",
       "    </tr>\n",
       "    <tr>\n",
       "      <th>3</th>\n",
       "      <td>Arab World</td>\n",
       "      <td>ARB</td>\n",
       "      <td>Age dependency ratio, young (% of working-age ...</td>\n",
       "      <td>SP.POP.DPND.YG</td>\n",
       "      <td>1960</td>\n",
       "      <td>8.102333e+01</td>\n",
       "    </tr>\n",
       "    <tr>\n",
       "      <th>4</th>\n",
       "      <td>Arab World</td>\n",
       "      <td>ARB</td>\n",
       "      <td>Arms exports (SIPRI trend indicator values)</td>\n",
       "      <td>MS.MIL.XPRT.KD</td>\n",
       "      <td>1960</td>\n",
       "      <td>3.000000e+06</td>\n",
       "    </tr>\n",
       "  </tbody>\n",
       "</table>\n",
       "</div>"
      ],
      "text/plain": [
       "  CountryName CountryCode                                      IndicatorName  \\\n",
       "0  Arab World         ARB  Adolescent fertility rate (births per 1,000 wo...   \n",
       "1  Arab World         ARB  Age dependency ratio (% of working-age populat...   \n",
       "2  Arab World         ARB  Age dependency ratio, old (% of working-age po...   \n",
       "3  Arab World         ARB  Age dependency ratio, young (% of working-age ...   \n",
       "4  Arab World         ARB        Arms exports (SIPRI trend indicator values)   \n",
       "\n",
       "    IndicatorCode  Year         Value  \n",
       "0     SP.ADO.TFRT  1960  1.335609e+02  \n",
       "1     SP.POP.DPND  1960  8.779760e+01  \n",
       "2  SP.POP.DPND.OL  1960  6.634579e+00  \n",
       "3  SP.POP.DPND.YG  1960  8.102333e+01  \n",
       "4  MS.MIL.XPRT.KD  1960  3.000000e+06  "
      ]
     },
     "execution_count": 6,
     "metadata": {},
     "output_type": "execute_result"
    }
   ],
   "source": [
    "data.head()"
   ]
  },
  {
   "cell_type": "code",
   "execution_count": 7,
   "metadata": {
    "_cell_guid": "58ebdd5b-083f-4426-a2d7-241071aa0405",
    "_execution_state": "idle",
    "_uuid": "df579a4276209fd385130ec11c901f766d16b7d8",
    "collapsed": true
   },
   "outputs": [],
   "source": [
    "countries = data[\"CountryCode\"].unique().tolist()"
   ]
  },
  {
   "cell_type": "code",
   "execution_count": 8,
   "metadata": {
    "_cell_guid": "11e3f97b-2395-4b54-9eda-7752ee04206b",
    "_execution_state": "idle",
    "_uuid": "174b5aee2c673bb5b5a7f826635311bf0d66464d"
   },
   "outputs": [
    {
     "data": {
      "text/plain": [
       "['ARB', 'CSS', 'CEB', 'EAS', 'EAP', 'EMU', 'ECS', 'ECA', 'EUU', 'FCS']"
      ]
     },
     "execution_count": 8,
     "metadata": {},
     "output_type": "execute_result"
    }
   ],
   "source": [
    "countries[0:10]"
   ]
  },
  {
   "cell_type": "code",
   "execution_count": 9,
   "metadata": {
    "_cell_guid": "dd859a96-b3b8-45da-8335-d346c7ab7b0f",
    "_execution_state": "idle",
    "_uuid": "5b16108a898cefe8808565f33f281402941681b3"
   },
   "outputs": [
    {
     "data": {
      "text/plain": [
       "247"
      ]
     },
     "execution_count": 9,
     "metadata": {},
     "output_type": "execute_result"
    }
   ],
   "source": [
    "len(countries)"
   ]
  },
  {
   "cell_type": "code",
   "execution_count": 10,
   "metadata": {
    "_cell_guid": "827f13c8-a4c0-404a-b6f7-060beb2ec1f4",
    "_execution_state": "idle",
    "_uuid": "60b091c1b0d8760cb439b8f25d08117cebfc1f0c"
   },
   "outputs": [
    {
     "name": "stdout",
     "output_type": "stream",
     "text": [
      "1960  to  2015\n"
     ]
    }
   ],
   "source": [
    "print(min(data['Year']),\" to \",max(data['Year']))"
   ]
  },
  {
   "cell_type": "code",
   "execution_count": 11,
   "metadata": {
    "_cell_guid": "2ebe546e-b27e-47b6-9fb4-afea552396df",
    "_execution_state": "idle",
    "_uuid": "e5438af33d69f28e86e3b194eec980f1d12471ba",
    "collapsed": true
   },
   "outputs": [],
   "source": [
    "india = data['CountryCode']=='IND'"
   ]
  },
  {
   "cell_type": "code",
   "execution_count": 12,
   "metadata": {
    "_cell_guid": "19689212-466d-4369-ae9c-e546494cc0c1",
    "_execution_state": "idle",
    "_uuid": "6068a868a7b1967e5d297c10fe4c1eb018c23f96"
   },
   "outputs": [
    {
     "data": {
      "text/html": [
       "<div>\n",
       "<style>\n",
       "    .dataframe thead tr:only-child th {\n",
       "        text-align: right;\n",
       "    }\n",
       "\n",
       "    .dataframe thead th {\n",
       "        text-align: left;\n",
       "    }\n",
       "\n",
       "    .dataframe tbody tr th {\n",
       "        vertical-align: top;\n",
       "    }\n",
       "</style>\n",
       "<table border=\"1\" class=\"dataframe\">\n",
       "  <thead>\n",
       "    <tr style=\"text-align: right;\">\n",
       "      <th></th>\n",
       "      <th>CountryName</th>\n",
       "      <th>CountryCode</th>\n",
       "      <th>IndicatorName</th>\n",
       "      <th>IndicatorCode</th>\n",
       "      <th>Year</th>\n",
       "      <th>Value</th>\n",
       "    </tr>\n",
       "  </thead>\n",
       "  <tbody>\n",
       "    <tr>\n",
       "      <th>11561</th>\n",
       "      <td>India</td>\n",
       "      <td>IND</td>\n",
       "      <td>Adolescent fertility rate (births per 1,000 wo...</td>\n",
       "      <td>SP.ADO.TFRT</td>\n",
       "      <td>1960</td>\n",
       "      <td>1.039380e+02</td>\n",
       "    </tr>\n",
       "    <tr>\n",
       "      <th>11562</th>\n",
       "      <td>India</td>\n",
       "      <td>IND</td>\n",
       "      <td>Age dependency ratio (% of working-age populat...</td>\n",
       "      <td>SP.POP.DPND</td>\n",
       "      <td>1960</td>\n",
       "      <td>7.655954e+01</td>\n",
       "    </tr>\n",
       "    <tr>\n",
       "      <th>11563</th>\n",
       "      <td>India</td>\n",
       "      <td>IND</td>\n",
       "      <td>Age dependency ratio, old (% of working-age po...</td>\n",
       "      <td>SP.POP.DPND.OL</td>\n",
       "      <td>1960</td>\n",
       "      <td>5.403730e+00</td>\n",
       "    </tr>\n",
       "    <tr>\n",
       "      <th>11564</th>\n",
       "      <td>India</td>\n",
       "      <td>IND</td>\n",
       "      <td>Age dependency ratio, young (% of working-age ...</td>\n",
       "      <td>SP.POP.DPND.YG</td>\n",
       "      <td>1960</td>\n",
       "      <td>7.115581e+01</td>\n",
       "    </tr>\n",
       "    <tr>\n",
       "      <th>11565</th>\n",
       "      <td>India</td>\n",
       "      <td>IND</td>\n",
       "      <td>Agriculture, value added (% of GDP)</td>\n",
       "      <td>NV.AGR.TOTL.ZS</td>\n",
       "      <td>1960</td>\n",
       "      <td>4.256113e+01</td>\n",
       "    </tr>\n",
       "    <tr>\n",
       "      <th>11566</th>\n",
       "      <td>India</td>\n",
       "      <td>IND</td>\n",
       "      <td>Agriculture, value added (constant 2005 US$)</td>\n",
       "      <td>NV.AGR.TOTL.KD</td>\n",
       "      <td>1960</td>\n",
       "      <td>4.736808e+10</td>\n",
       "    </tr>\n",
       "    <tr>\n",
       "      <th>11567</th>\n",
       "      <td>India</td>\n",
       "      <td>IND</td>\n",
       "      <td>Agriculture, value added (constant LCU)</td>\n",
       "      <td>NV.AGR.TOTL.KN</td>\n",
       "      <td>1960</td>\n",
       "      <td>3.904243e+12</td>\n",
       "    </tr>\n",
       "    <tr>\n",
       "      <th>11568</th>\n",
       "      <td>India</td>\n",
       "      <td>IND</td>\n",
       "      <td>Agriculture, value added (current LCU)</td>\n",
       "      <td>NV.AGR.TOTL.CN</td>\n",
       "      <td>1960</td>\n",
       "      <td>7.256460e+10</td>\n",
       "    </tr>\n",
       "    <tr>\n",
       "      <th>11569</th>\n",
       "      <td>India</td>\n",
       "      <td>IND</td>\n",
       "      <td>Agriculture, value added (current US$)</td>\n",
       "      <td>NV.AGR.TOTL.CD</td>\n",
       "      <td>1960</td>\n",
       "      <td>1.523858e+10</td>\n",
       "    </tr>\n",
       "    <tr>\n",
       "      <th>11570</th>\n",
       "      <td>India</td>\n",
       "      <td>IND</td>\n",
       "      <td>Arms imports (SIPRI trend indicator values)</td>\n",
       "      <td>MS.MIL.MPRT.KD</td>\n",
       "      <td>1960</td>\n",
       "      <td>5.470000e+08</td>\n",
       "    </tr>\n",
       "  </tbody>\n",
       "</table>\n",
       "</div>"
      ],
      "text/plain": [
       "      CountryName CountryCode  \\\n",
       "11561       India         IND   \n",
       "11562       India         IND   \n",
       "11563       India         IND   \n",
       "11564       India         IND   \n",
       "11565       India         IND   \n",
       "11566       India         IND   \n",
       "11567       India         IND   \n",
       "11568       India         IND   \n",
       "11569       India         IND   \n",
       "11570       India         IND   \n",
       "\n",
       "                                           IndicatorName   IndicatorCode  \\\n",
       "11561  Adolescent fertility rate (births per 1,000 wo...     SP.ADO.TFRT   \n",
       "11562  Age dependency ratio (% of working-age populat...     SP.POP.DPND   \n",
       "11563  Age dependency ratio, old (% of working-age po...  SP.POP.DPND.OL   \n",
       "11564  Age dependency ratio, young (% of working-age ...  SP.POP.DPND.YG   \n",
       "11565                Agriculture, value added (% of GDP)  NV.AGR.TOTL.ZS   \n",
       "11566       Agriculture, value added (constant 2005 US$)  NV.AGR.TOTL.KD   \n",
       "11567            Agriculture, value added (constant LCU)  NV.AGR.TOTL.KN   \n",
       "11568             Agriculture, value added (current LCU)  NV.AGR.TOTL.CN   \n",
       "11569             Agriculture, value added (current US$)  NV.AGR.TOTL.CD   \n",
       "11570        Arms imports (SIPRI trend indicator values)  MS.MIL.MPRT.KD   \n",
       "\n",
       "       Year         Value  \n",
       "11561  1960  1.039380e+02  \n",
       "11562  1960  7.655954e+01  \n",
       "11563  1960  5.403730e+00  \n",
       "11564  1960  7.115581e+01  \n",
       "11565  1960  4.256113e+01  \n",
       "11566  1960  4.736808e+10  \n",
       "11567  1960  3.904243e+12  \n",
       "11568  1960  7.256460e+10  \n",
       "11569  1960  1.523858e+10  \n",
       "11570  1960  5.470000e+08  "
      ]
     },
     "execution_count": 12,
     "metadata": {},
     "output_type": "execute_result"
    }
   ],
   "source": [
    "data[india].head(10)"
   ]
  },
  {
   "cell_type": "markdown",
   "execution_count": null,
   "metadata": {
    "_cell_guid": "8d348827-c633-4d0e-9fa3-4f25144e50b9",
    "_uuid": "210adbd2bccd02d06ba3bfcfc3c9991834eb94dd"
   },
   "outputs": [],
   "source": [
    "### CO2 Emissions per capita and the India"
   ]
  },
  {
   "cell_type": "code",
   "execution_count": 13,
   "metadata": {
    "_cell_guid": "0633d693-9db0-439d-b51a-f56601300ed5",
    "_execution_state": "idle",
    "_uuid": "8d0073330e5b0b50e2f434afd9e0a311e2cf3ede",
    "collapsed": true
   },
   "outputs": [],
   "source": [
    "country = 'IND'\n",
    "indicator = 'CO2 emissions \\(metric'\n",
    "\n",
    "india = data['CountryCode']==country\n",
    "co2emi = data['IndicatorName'].str.contains(indicator)"
   ]
  },
  {
   "cell_type": "code",
   "execution_count": 14,
   "metadata": {
    "_cell_guid": "13655470-6a35-4e4d-8455-b0516e8b86c7",
    "_execution_state": "idle",
    "_uuid": "448facb1191d6a5cb1e1e4026b834290288dbb8d"
   },
   "outputs": [
    {
     "data": {
      "text/html": [
       "<div>\n",
       "<style>\n",
       "    .dataframe thead tr:only-child th {\n",
       "        text-align: right;\n",
       "    }\n",
       "\n",
       "    .dataframe thead th {\n",
       "        text-align: left;\n",
       "    }\n",
       "\n",
       "    .dataframe tbody tr th {\n",
       "        vertical-align: top;\n",
       "    }\n",
       "</style>\n",
       "<table border=\"1\" class=\"dataframe\">\n",
       "  <thead>\n",
       "    <tr style=\"text-align: right;\">\n",
       "      <th></th>\n",
       "      <th>CountryName</th>\n",
       "      <th>CountryCode</th>\n",
       "      <th>IndicatorName</th>\n",
       "      <th>IndicatorCode</th>\n",
       "      <th>Year</th>\n",
       "      <th>Value</th>\n",
       "    </tr>\n",
       "  </thead>\n",
       "  <tbody>\n",
       "    <tr>\n",
       "      <th>11577</th>\n",
       "      <td>India</td>\n",
       "      <td>IND</td>\n",
       "      <td>CO2 emissions (metric tons per capita)</td>\n",
       "      <td>EN.ATM.CO2E.PC</td>\n",
       "      <td>1960</td>\n",
       "      <td>0.268161</td>\n",
       "    </tr>\n",
       "    <tr>\n",
       "      <th>36513</th>\n",
       "      <td>India</td>\n",
       "      <td>IND</td>\n",
       "      <td>CO2 emissions (metric tons per capita)</td>\n",
       "      <td>EN.ATM.CO2E.PC</td>\n",
       "      <td>1961</td>\n",
       "      <td>0.284292</td>\n",
       "    </tr>\n",
       "    <tr>\n",
       "      <th>64049</th>\n",
       "      <td>India</td>\n",
       "      <td>IND</td>\n",
       "      <td>CO2 emissions (metric tons per capita)</td>\n",
       "      <td>EN.ATM.CO2E.PC</td>\n",
       "      <td>1962</td>\n",
       "      <td>0.306519</td>\n",
       "    </tr>\n",
       "    <tr>\n",
       "      <th>92493</th>\n",
       "      <td>India</td>\n",
       "      <td>IND</td>\n",
       "      <td>CO2 emissions (metric tons per capita)</td>\n",
       "      <td>EN.ATM.CO2E.PC</td>\n",
       "      <td>1963</td>\n",
       "      <td>0.322533</td>\n",
       "    </tr>\n",
       "    <tr>\n",
       "      <th>121290</th>\n",
       "      <td>India</td>\n",
       "      <td>IND</td>\n",
       "      <td>CO2 emissions (metric tons per capita)</td>\n",
       "      <td>EN.ATM.CO2E.PC</td>\n",
       "      <td>1964</td>\n",
       "      <td>0.308900</td>\n",
       "    </tr>\n",
       "    <tr>\n",
       "      <th>151960</th>\n",
       "      <td>India</td>\n",
       "      <td>IND</td>\n",
       "      <td>CO2 emissions (metric tons per capita)</td>\n",
       "      <td>EN.ATM.CO2E.PC</td>\n",
       "      <td>1965</td>\n",
       "      <td>0.333331</td>\n",
       "    </tr>\n",
       "    <tr>\n",
       "      <th>183696</th>\n",
       "      <td>India</td>\n",
       "      <td>IND</td>\n",
       "      <td>CO2 emissions (metric tons per capita)</td>\n",
       "      <td>EN.ATM.CO2E.PC</td>\n",
       "      <td>1966</td>\n",
       "      <td>0.337854</td>\n",
       "    </tr>\n",
       "    <tr>\n",
       "      <th>215614</th>\n",
       "      <td>India</td>\n",
       "      <td>IND</td>\n",
       "      <td>CO2 emissions (metric tons per capita)</td>\n",
       "      <td>EN.ATM.CO2E.PC</td>\n",
       "      <td>1967</td>\n",
       "      <td>0.331763</td>\n",
       "    </tr>\n",
       "    <tr>\n",
       "      <th>248229</th>\n",
       "      <td>India</td>\n",
       "      <td>IND</td>\n",
       "      <td>CO2 emissions (metric tons per capita)</td>\n",
       "      <td>EN.ATM.CO2E.PC</td>\n",
       "      <td>1968</td>\n",
       "      <td>0.353281</td>\n",
       "    </tr>\n",
       "    <tr>\n",
       "      <th>281013</th>\n",
       "      <td>India</td>\n",
       "      <td>IND</td>\n",
       "      <td>CO2 emissions (metric tons per capita)</td>\n",
       "      <td>EN.ATM.CO2E.PC</td>\n",
       "      <td>1969</td>\n",
       "      <td>0.351991</td>\n",
       "    </tr>\n",
       "  </tbody>\n",
       "</table>\n",
       "</div>"
      ],
      "text/plain": [
       "       CountryName CountryCode                           IndicatorName  \\\n",
       "11577        India         IND  CO2 emissions (metric tons per capita)   \n",
       "36513        India         IND  CO2 emissions (metric tons per capita)   \n",
       "64049        India         IND  CO2 emissions (metric tons per capita)   \n",
       "92493        India         IND  CO2 emissions (metric tons per capita)   \n",
       "121290       India         IND  CO2 emissions (metric tons per capita)   \n",
       "151960       India         IND  CO2 emissions (metric tons per capita)   \n",
       "183696       India         IND  CO2 emissions (metric tons per capita)   \n",
       "215614       India         IND  CO2 emissions (metric tons per capita)   \n",
       "248229       India         IND  CO2 emissions (metric tons per capita)   \n",
       "281013       India         IND  CO2 emissions (metric tons per capita)   \n",
       "\n",
       "         IndicatorCode  Year     Value  \n",
       "11577   EN.ATM.CO2E.PC  1960  0.268161  \n",
       "36513   EN.ATM.CO2E.PC  1961  0.284292  \n",
       "64049   EN.ATM.CO2E.PC  1962  0.306519  \n",
       "92493   EN.ATM.CO2E.PC  1963  0.322533  \n",
       "121290  EN.ATM.CO2E.PC  1964  0.308900  \n",
       "151960  EN.ATM.CO2E.PC  1965  0.333331  \n",
       "183696  EN.ATM.CO2E.PC  1966  0.337854  \n",
       "215614  EN.ATM.CO2E.PC  1967  0.331763  \n",
       "248229  EN.ATM.CO2E.PC  1968  0.353281  \n",
       "281013  EN.ATM.CO2E.PC  1969  0.351991  "
      ]
     },
     "execution_count": 14,
     "metadata": {},
     "output_type": "execute_result"
    }
   ],
   "source": [
    "data_india = data[ india & co2emi]\n",
    "data_india.head(10)"
   ]
  },
  {
   "cell_type": "code",
   "execution_count": 15,
   "metadata": {
    "_cell_guid": "206694a0-548f-48c0-b45e-02dced2d3bb1",
    "_execution_state": "idle",
    "_uuid": "849f3ef542e8ca170417ac96c71e6271e2810649"
   },
   "outputs": [
    {
     "data": {
      "image/png": "[encoded data removed]",
      "text/plain": [
       "<matplotlib.figure.Figure at 0x7fb9b2068390>"
      ]
     },
     "metadata": {},
     "output_type": "display_data"
    }
   ],
   "source": [
    "plt.plot(data_india['Year'], data_india['Value'])\n",
    "plt.xlabel('Year')\n",
    "plt.ylabel(data_india['IndicatorName'].iloc[0])\n",
    "plt.axis([1959,2013,0,2])\n",
    "plt.show()"
   ]
  },
  {
   "cell_type": "code",
   "execution_count": 16,
   "metadata": {
    "_cell_guid": "07c831da-0bac-463b-815c-e09a732a0d5d",
    "_execution_state": "idle",
    "_uuid": "f6061ab334a11cc37d87b01f985e8bd05289d6ca"
   },
   "outputs": [
    {
     "data": {
      "image/png": "[encoded data removed]",
      "text/plain": [
       "<matplotlib.figure.Figure at 0x7fb9b2ac7c18>"
      ]
     },
     "metadata": {},
     "output_type": "display_data"
    }
   ],
   "source": [
    "plt.xlabel('Year')\n",
    "plt.ylabel(data_india['IndicatorName'].iloc[0])\n",
    "plt.title(\"CO2 emission in india\")\n",
    "plt.bar(data_india['Year'].values, data_india['Value'].values)\n",
    "plt.axis([1959,2013,0,2])\n",
    "plt.show()"
   ]
  },
  {
   "cell_type": "markdown",
   "execution_count": null,
   "metadata": {
    "_cell_guid": "da1c4da3-f38f-484a-8d85-2cfeaaec003c",
    "_uuid": "e29966342497c3efbb70660b51f5591d772b1c89"
   },
   "outputs": [],
   "source": [
    "### Histrogam plot"
   ]
  },
  {
   "cell_type": "code",
   "execution_count": 17,
   "metadata": {
    "_cell_guid": "8ab9f8bc-9dbc-4e1a-b6af-0df9dbc47571",
    "_execution_state": "idle",
    "_uuid": "ad8bd29310192c5f7c234a06bb6942ae7a439b0a",
    "collapsed": true
   },
   "outputs": [],
   "source": [
    "histdata = data_india['Value'].values"
   ]
  },
  {
   "cell_type": "code",
   "execution_count": 18,
   "metadata": {
    "_cell_guid": "cb799ad1-e99a-49af-9e57-75e120e96160",
    "_execution_state": "idle",
    "_uuid": "206141dd6b157da7ed3003cffd719ff94d42b450"
   },
   "outputs": [
    {
     "data": {
      "image/png": "[encoded data removed]",
      "text/plain": [
       "<matplotlib.figure.Figure at 0x7fb9b2904f98>"
      ]
     },
     "metadata": {},
     "output_type": "display_data"
    }
   ],
   "source": [
    "plt.hist(histdata,10, facecolor ='red')\n",
    "plt.xlabel(data_india[\"IndicatorName\"].iloc[0])\n",
    "plt.ylabel(\"# of year\")\n",
    "plt.grid(True)\n",
    "plt.show()\n"
   ]
  },
  {
   "cell_type": "markdown",
   "execution_count": null,
   "metadata": {
    "_cell_guid": "d36e1cd3-fa8c-4ce3-a20e-af03da2f5d7a",
    "_uuid": "8bcdf8f62eff58ae774763e3ae4662a42e3075ea"
   },
   "outputs": [],
   "source": [
    "So india has many year where it produced between 0.2-0.4 matric tons per capita CO2, which is less as compared to USA!"
   ]
  },
  {
   "cell_type": "markdown",
   "execution_count": null,
   "metadata": {
    "_cell_guid": "474251bf-7e9e-458c-a129-4440239cbf5e",
    "_uuid": "3e5f9a2581209fb349b5342f1fe565850da35e2c"
   },
   "outputs": [],
   "source": [
    "## Relationship between GDP & CO2 emission of India"
   ]
  },
  {
   "cell_type": "code",
   "execution_count": 19,
   "metadata": {
    "_cell_guid": "5eedd68c-9f9d-4eef-bdd5-9376dc36b101",
    "_execution_state": "idle",
    "_uuid": "d673c64f8f53f56e2f19580f4b767738d7d127ec"
   },
   "outputs": [
    {
     "data": {
      "text/html": [
       "<div>\n",
       "<style>\n",
       "    .dataframe thead tr:only-child th {\n",
       "        text-align: right;\n",
       "    }\n",
       "\n",
       "    .dataframe thead th {\n",
       "        text-align: left;\n",
       "    }\n",
       "\n",
       "    .dataframe tbody tr th {\n",
       "        vertical-align: top;\n",
       "    }\n",
       "</style>\n",
       "<table border=\"1\" class=\"dataframe\">\n",
       "  <thead>\n",
       "    <tr style=\"text-align: right;\">\n",
       "      <th></th>\n",
       "      <th>CountryName</th>\n",
       "      <th>CountryCode</th>\n",
       "      <th>IndicatorName</th>\n",
       "      <th>IndicatorCode</th>\n",
       "      <th>Year</th>\n",
       "      <th>Value</th>\n",
       "    </tr>\n",
       "  </thead>\n",
       "  <tbody>\n",
       "    <tr>\n",
       "      <th>0</th>\n",
       "      <td>Arab World</td>\n",
       "      <td>ARB</td>\n",
       "      <td>Adolescent fertility rate (births per 1,000 wo...</td>\n",
       "      <td>SP.ADO.TFRT</td>\n",
       "      <td>1960</td>\n",
       "      <td>1.335609e+02</td>\n",
       "    </tr>\n",
       "    <tr>\n",
       "      <th>1</th>\n",
       "      <td>Arab World</td>\n",
       "      <td>ARB</td>\n",
       "      <td>Age dependency ratio (% of working-age populat...</td>\n",
       "      <td>SP.POP.DPND</td>\n",
       "      <td>1960</td>\n",
       "      <td>8.779760e+01</td>\n",
       "    </tr>\n",
       "    <tr>\n",
       "      <th>2</th>\n",
       "      <td>Arab World</td>\n",
       "      <td>ARB</td>\n",
       "      <td>Age dependency ratio, old (% of working-age po...</td>\n",
       "      <td>SP.POP.DPND.OL</td>\n",
       "      <td>1960</td>\n",
       "      <td>6.634579e+00</td>\n",
       "    </tr>\n",
       "    <tr>\n",
       "      <th>3</th>\n",
       "      <td>Arab World</td>\n",
       "      <td>ARB</td>\n",
       "      <td>Age dependency ratio, young (% of working-age ...</td>\n",
       "      <td>SP.POP.DPND.YG</td>\n",
       "      <td>1960</td>\n",
       "      <td>8.102333e+01</td>\n",
       "    </tr>\n",
       "    <tr>\n",
       "      <th>4</th>\n",
       "      <td>Arab World</td>\n",
       "      <td>ARB</td>\n",
       "      <td>Arms exports (SIPRI trend indicator values)</td>\n",
       "      <td>MS.MIL.XPRT.KD</td>\n",
       "      <td>1960</td>\n",
       "      <td>3.000000e+06</td>\n",
       "    </tr>\n",
       "  </tbody>\n",
       "</table>\n",
       "</div>"
      ],
      "text/plain": [
       "  CountryName CountryCode                                      IndicatorName  \\\n",
       "0  Arab World         ARB  Adolescent fertility rate (births per 1,000 wo...   \n",
       "1  Arab World         ARB  Age dependency ratio (% of working-age populat...   \n",
       "2  Arab World         ARB  Age dependency ratio, old (% of working-age po...   \n",
       "3  Arab World         ARB  Age dependency ratio, young (% of working-age ...   \n",
       "4  Arab World         ARB        Arms exports (SIPRI trend indicator values)   \n",
       "\n",
       "    IndicatorCode  Year         Value  \n",
       "0     SP.ADO.TFRT  1960  1.335609e+02  \n",
       "1     SP.POP.DPND  1960  8.779760e+01  \n",
       "2  SP.POP.DPND.OL  1960  6.634579e+00  \n",
       "3  SP.POP.DPND.YG  1960  8.102333e+01  \n",
       "4  MS.MIL.XPRT.KD  1960  3.000000e+06  "
      ]
     },
     "execution_count": 19,
     "metadata": {},
     "output_type": "execute_result"
    }
   ],
   "source": [
    "data.head()"
   ]
  },
  {
   "cell_type": "code",
   "execution_count": 20,
   "metadata": {
    "_cell_guid": "3387b8f9-9ae7-4f48-835a-c14db95bcb43",
    "_execution_state": "idle",
    "_uuid": "7d0c6c96cdab0f569325c110be532bf8b0ed6b57",
    "collapsed": true
   },
   "outputs": [],
   "source": [
    "\n",
    "hist_indicator = 'GDP per capita \\(constant 2005'\n",
    "hist_country = 'IND'\n",
    "\n",
    "mask1 = data['IndicatorName'].str.contains(hist_indicator) \n",
    "mask2 = data['CountryCode'].str.contains(hist_country)\n",
    "\n",
    "gdp_stage = data[mask1 & mask2]"
   ]
  },
  {
   "cell_type": "code",
   "execution_count": 21,
   "metadata": {
    "_cell_guid": "3132cba3-aebd-4212-b589-014c803805c6",
    "_execution_state": "idle",
    "_uuid": "cb5c6323e2f0c02420f8b7def4f44983b6f7fd7e"
   },
   "outputs": [
    {
     "data": {
      "text/html": [
       "<div>\n",
       "<style>\n",
       "    .dataframe thead tr:only-child th {\n",
       "        text-align: right;\n",
       "    }\n",
       "\n",
       "    .dataframe thead th {\n",
       "        text-align: left;\n",
       "    }\n",
       "\n",
       "    .dataframe tbody tr th {\n",
       "        vertical-align: top;\n",
       "    }\n",
       "</style>\n",
       "<table border=\"1\" class=\"dataframe\">\n",
       "  <thead>\n",
       "    <tr style=\"text-align: right;\">\n",
       "      <th></th>\n",
       "      <th>CountryName</th>\n",
       "      <th>CountryCode</th>\n",
       "      <th>IndicatorName</th>\n",
       "      <th>IndicatorCode</th>\n",
       "      <th>Year</th>\n",
       "      <th>Value</th>\n",
       "    </tr>\n",
       "  </thead>\n",
       "  <tbody>\n",
       "    <tr>\n",
       "      <th>4929434</th>\n",
       "      <td>India</td>\n",
       "      <td>IND</td>\n",
       "      <td>GDP per capita (constant 2005 US$)</td>\n",
       "      <td>NY.GDP.PCAP.KD</td>\n",
       "      <td>2010</td>\n",
       "      <td>1010.309221</td>\n",
       "    </tr>\n",
       "    <tr>\n",
       "      <th>5111234</th>\n",
       "      <td>India</td>\n",
       "      <td>IND</td>\n",
       "      <td>GDP per capita (constant 2005 US$)</td>\n",
       "      <td>NY.GDP.PCAP.KD</td>\n",
       "      <td>2011</td>\n",
       "      <td>1063.159868</td>\n",
       "    </tr>\n",
       "    <tr>\n",
       "      <th>5286920</th>\n",
       "      <td>India</td>\n",
       "      <td>IND</td>\n",
       "      <td>GDP per capita (constant 2005 US$)</td>\n",
       "      <td>NY.GDP.PCAP.KD</td>\n",
       "      <td>2012</td>\n",
       "      <td>1102.910323</td>\n",
       "    </tr>\n",
       "    <tr>\n",
       "      <th>5453104</th>\n",
       "      <td>India</td>\n",
       "      <td>IND</td>\n",
       "      <td>GDP per capita (constant 2005 US$)</td>\n",
       "      <td>NY.GDP.PCAP.KD</td>\n",
       "      <td>2013</td>\n",
       "      <td>1164.342834</td>\n",
       "    </tr>\n",
       "    <tr>\n",
       "      <th>5585318</th>\n",
       "      <td>India</td>\n",
       "      <td>IND</td>\n",
       "      <td>GDP per capita (constant 2005 US$)</td>\n",
       "      <td>NY.GDP.PCAP.KD</td>\n",
       "      <td>2014</td>\n",
       "      <td>1233.949344</td>\n",
       "    </tr>\n",
       "  </tbody>\n",
       "</table>\n",
       "</div>"
      ],
      "text/plain": [
       "        CountryName CountryCode                       IndicatorName  \\\n",
       "4929434       India         IND  GDP per capita (constant 2005 US$)   \n",
       "5111234       India         IND  GDP per capita (constant 2005 US$)   \n",
       "5286920       India         IND  GDP per capita (constant 2005 US$)   \n",
       "5453104       India         IND  GDP per capita (constant 2005 US$)   \n",
       "5585318       India         IND  GDP per capita (constant 2005 US$)   \n",
       "\n",
       "          IndicatorCode  Year        Value  \n",
       "4929434  NY.GDP.PCAP.KD  2010  1010.309221  \n",
       "5111234  NY.GDP.PCAP.KD  2011  1063.159868  \n",
       "5286920  NY.GDP.PCAP.KD  2012  1102.910323  \n",
       "5453104  NY.GDP.PCAP.KD  2013  1164.342834  \n",
       "5585318  NY.GDP.PCAP.KD  2014  1233.949344  "
      ]
     },
     "execution_count": 21,
     "metadata": {},
     "output_type": "execute_result"
    }
   ],
   "source": [
    "gdp_stage.tail()\n"
   ]
  },
  {
   "cell_type": "code",
   "execution_count": 22,
   "metadata": {
    "_cell_guid": "da75b09a-a8ff-4d9c-92e8-8be585850326",
    "_execution_state": "idle",
    "_uuid": "152d72c35e7344f1a49222bc4dc5631604f1962b"
   },
   "outputs": [
    {
     "data": {
      "text/html": [
       "<div>\n",
       "<style>\n",
       "    .dataframe thead tr:only-child th {\n",
       "        text-align: right;\n",
       "    }\n",
       "\n",
       "    .dataframe thead th {\n",
       "        text-align: left;\n",
       "    }\n",
       "\n",
       "    .dataframe tbody tr th {\n",
       "        vertical-align: top;\n",
       "    }\n",
       "</style>\n",
       "<table border=\"1\" class=\"dataframe\">\n",
       "  <thead>\n",
       "    <tr style=\"text-align: right;\">\n",
       "      <th></th>\n",
       "      <th>CountryName</th>\n",
       "      <th>CountryCode</th>\n",
       "      <th>IndicatorName</th>\n",
       "      <th>IndicatorCode</th>\n",
       "      <th>Year</th>\n",
       "      <th>Value</th>\n",
       "    </tr>\n",
       "  </thead>\n",
       "  <tbody>\n",
       "    <tr>\n",
       "      <th>4386994</th>\n",
       "      <td>India</td>\n",
       "      <td>IND</td>\n",
       "      <td>CO2 emissions (metric tons per capita)</td>\n",
       "      <td>EN.ATM.CO2E.PC</td>\n",
       "      <td>2007</td>\n",
       "      <td>1.365787</td>\n",
       "    </tr>\n",
       "    <tr>\n",
       "      <th>4567309</th>\n",
       "      <td>India</td>\n",
       "      <td>IND</td>\n",
       "      <td>CO2 emissions (metric tons per capita)</td>\n",
       "      <td>EN.ATM.CO2E.PC</td>\n",
       "      <td>2008</td>\n",
       "      <td>1.497886</td>\n",
       "    </tr>\n",
       "    <tr>\n",
       "      <th>4746431</th>\n",
       "      <td>India</td>\n",
       "      <td>IND</td>\n",
       "      <td>CO2 emissions (metric tons per capita)</td>\n",
       "      <td>EN.ATM.CO2E.PC</td>\n",
       "      <td>2009</td>\n",
       "      <td>1.619049</td>\n",
       "    </tr>\n",
       "    <tr>\n",
       "      <th>4929232</th>\n",
       "      <td>India</td>\n",
       "      <td>IND</td>\n",
       "      <td>CO2 emissions (metric tons per capita)</td>\n",
       "      <td>EN.ATM.CO2E.PC</td>\n",
       "      <td>2010</td>\n",
       "      <td>1.584870</td>\n",
       "    </tr>\n",
       "    <tr>\n",
       "      <th>5111048</th>\n",
       "      <td>India</td>\n",
       "      <td>IND</td>\n",
       "      <td>CO2 emissions (metric tons per capita)</td>\n",
       "      <td>EN.ATM.CO2E.PC</td>\n",
       "      <td>2011</td>\n",
       "      <td>1.662873</td>\n",
       "    </tr>\n",
       "  </tbody>\n",
       "</table>\n",
       "</div>"
      ],
      "text/plain": [
       "        CountryName CountryCode                           IndicatorName  \\\n",
       "4386994       India         IND  CO2 emissions (metric tons per capita)   \n",
       "4567309       India         IND  CO2 emissions (metric tons per capita)   \n",
       "4746431       India         IND  CO2 emissions (metric tons per capita)   \n",
       "4929232       India         IND  CO2 emissions (metric tons per capita)   \n",
       "5111048       India         IND  CO2 emissions (metric tons per capita)   \n",
       "\n",
       "          IndicatorCode  Year     Value  \n",
       "4386994  EN.ATM.CO2E.PC  2007  1.365787  \n",
       "4567309  EN.ATM.CO2E.PC  2008  1.497886  \n",
       "4746431  EN.ATM.CO2E.PC  2009  1.619049  \n",
       "4929232  EN.ATM.CO2E.PC  2010  1.584870  \n",
       "5111048  EN.ATM.CO2E.PC  2011  1.662873  "
      ]
     },
     "execution_count": 22,
     "metadata": {},
     "output_type": "execute_result"
    }
   ],
   "source": [
    "data_india.tail()"
   ]
  },
  {
   "cell_type": "markdown",
   "execution_count": null,
   "metadata": {
    "_cell_guid": "6b0f5815-84a7-4665-b03e-ba30f1e5a864",
    "_uuid": "a0e45705aa3bc7b4447ec725654400cfe8bac2ba"
   },
   "outputs": [],
   "source": [
    "Lets see we are working on same number dataframe"
   ]
  },
  {
   "cell_type": "code",
   "execution_count": 23,
   "metadata": {
    "_cell_guid": "09d7bb32-bb82-4594-aae0-517bd8f34812",
    "_execution_state": "idle",
    "_uuid": "3b04504353860cdd7f97a188ef8cde7119230473"
   },
   "outputs": [
    {
     "name": "stdout",
     "output_type": "stream",
     "text": [
      "min:  1960  max:  2011\n",
      "min:  1960  max:  2014\n"
     ]
    }
   ],
   "source": [
    "print(\"min: \",data_india['Year'].min(),\" max: \",data_india['Year'].max())\n",
    "print(\"min: \",gdp_stage['Year'].min(),\" max: \",gdp_stage['Year'].max())"
   ]
  },
  {
   "cell_type": "markdown",
   "execution_count": null,
   "metadata": {
    "_cell_guid": "c64231db-dfe6-4bd5-9351-69a97c0d0ca8",
    "_uuid": "3a98fe56752953a03b80c3e45c120f96de203519"
   },
   "outputs": [],
   "source": [
    "Since gdp_stage data contains three more rows in year, lets trim it first."
   ]
  },
  {
   "cell_type": "code",
   "execution_count": 24,
   "metadata": {
    "_cell_guid": "34049855-f0e2-41bf-9d2f-d8a85573ec85",
    "_execution_state": "idle",
    "_uuid": "aa85446a5ae359f6782bd12a5b6c7c31f3c5f28a",
    "collapsed": true
   },
   "outputs": [],
   "source": [
    "x = gdp_stage[gdp_stage['Year']<2012]['Value'].values\n",
    "y= data_india['Value'].values"
   ]
  },
  {
   "cell_type": "markdown",
   "execution_count": null,
   "metadata": {
    "_cell_guid": "0c4d2d98-b66b-4e2f-a607-31d31b016de2",
    "_uuid": "cdc7b4f964e786d5df122bdb79f58adca3f7b119"
   },
   "outputs": [],
   "source": [
    "Lets count the number of year to verify it"
   ]
  },
  {
   "cell_type": "code",
   "execution_count": 25,
   "metadata": {
    "_cell_guid": "dba3e9ec-6523-4a31-86f8-07aeb226fb23",
    "_execution_state": "idle",
    "_uuid": "d5a22519bef9de2ce7e56afc9546740e3d3c9904"
   },
   "outputs": [
    {
     "name": "stdout",
     "output_type": "stream",
     "text": [
      "52 52\n"
     ]
    }
   ],
   "source": [
    "print(len(x), len(y))"
   ]
  },
  {
   "cell_type": "code",
   "execution_count": 26,
   "metadata": {
    "_cell_guid": "0fe83952-be15-4172-a668-3db9fd4b1955",
    "_execution_state": "idle",
    "_uuid": "babd59504c3cee107d08ee277a0848a7b0bc8b1f"
   },
   "outputs": [
    {
     "data": {
      "image/png": "[encoded data removed]",
      "text/plain": [
       "<matplotlib.figure.Figure at 0x7fb9b27fb2b0>"
      ]
     },
     "metadata": {},
     "output_type": "display_data"
    }
   ],
   "source": [
    "plt.plot(x,y)\n",
    "plt.xlabel(gdp_stage['IndicatorName'].iloc[0])\n",
    "plt.ylabel(data_india['IndicatorName'].iloc[0])\n",
    "plt.title(\"Relation b/w GDP & CO2 emission\")\n",
    "plt.axis([100,1200,0,2])\n",
    "plt.show()"
   ]
  },
  {
   "cell_type": "code",
   "execution_count": 27,
   "metadata": {
    "_cell_guid": "99d4ed76-0977-4035-b773-b58721d09fa0",
    "_execution_state": "idle",
    "_uuid": "ffe61e604ef8090a5972fc701266575d03f36026"
   },
   "outputs": [
    {
     "name": "stdout",
     "output_type": "stream",
     "text": [
      "(52,) (52,)\n"
     ]
    }
   ],
   "source": [
    "print(x.shape,y.shape)"
   ]
  },
  {
   "cell_type": "code",
   "execution_count": 28,
   "metadata": {
    "_cell_guid": "04975f22-1a79-4adb-8f82-df98d4faf72e",
    "_execution_state": "idle",
    "_uuid": "80e65802e9ce42484fd031ff0791348ed58f8136"
   },
   "outputs": [
    {
     "data": {
      "text/plain": [
       "array([[ 1.        ,  0.96753758],\n",
       "       [ 0.96753758,  1.        ]])"
      ]
     },
     "execution_count": 28,
     "metadata": {},
     "output_type": "execute_result"
    }
   ],
   "source": [
    "np.corrcoef(x,y)"
   ]
  },
  {
   "cell_type": "markdown",
   "execution_count": null,
   "metadata": {
    "_cell_guid": "c11cf100-c01d-44e5-b382-952e0a049c8d",
    "_uuid": "ff487c8eaa66b88082ed51e8a0063e2e2a7f1053"
   },
   "outputs": [],
   "source": [
    "###### So, Correation of 0.96 is strong and it shows that more the gdp, more the CO2 emission!! "
   ]
  },
  {
   "cell_type": "code",
   "execution_count": 29,
   "metadata": {
    "_cell_guid": "d4ef19ff-ab67-4563-8dcc-4337f2340844",
    "_execution_state": "idle",
    "_uuid": "d3fa877055acdbb5fcee844bdf032196f6e5e1b0",
    "collapsed": true
   },
   "outputs": [],
   "source": []
  },
  {
   "cell_type": "code",
   "execution_count": 29,
   "metadata": {
    "_cell_guid": "da9c6e55-2463-4d79-82d4-2b5219584cf4",
    "_execution_state": "idle",
    "_uuid": "6c82e299642f4c2a2c98ce2ceb577a1b2771d5a1",
    "collapsed": false
   },
   "outputs": [],
   "source": []
  }
 ],
 "metadata": {
  "kernelspec": {
   "display_name": "Python 3",
   "language": "python",
   "name": "python3"
  },
  "language_info": {
   "codemirror_mode": {
    "name": "ipython",
    "version": 3
   },
   "file_extension": ".py",
   "mimetype": "text/x-python",
   "name": "python",
   "nbconvert_exporter": "python",
   "pygments_lexer": "ipython3",
   "version": "3.6.1"
  }
 },
 "nbformat": 4,
 "nbformat_minor": 2
}
